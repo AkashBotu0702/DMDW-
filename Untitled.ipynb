{
 "cells": [
  {
   "cell_type": "code",
   "execution_count": 1,
   "id": "69aeae5e",
   "metadata": {},
   "outputs": [],
   "source": [
    "import numpy as np\n",
    "import pandas as pd"
   ]
  },
  {
   "cell_type": "code",
   "execution_count": 2,
   "id": "dac40dbc",
   "metadata": {},
   "outputs": [],
   "source": [
    "data = {\n",
    "    'Height': [1.70, 1.90, 1.78, 1.73, 1.81, 1.73, 1.80, 1.75],\n",
    "    'Weight': [65, 85, 76, 74, 75, 70, 71, 69],\n",
    "    'Age': [20, 33, 31, 24, 35, 75, 63, 25],\n",
    "    'Class': ['Programmer', 'Builder', 'Builder', 'Programmer', 'Builder', 'Scientist', 'Scientist', 'Programmer']\n",
    "}"
   ]
  },
  {
   "cell_type": "code",
   "execution_count": 3,
   "id": "8d225fa5",
   "metadata": {},
   "outputs": [],
   "source": [
    "df = pd.DataFrame(data)"
   ]
  },
  {
   "cell_type": "code",
   "execution_count": 4,
   "id": "49040532",
   "metadata": {},
   "outputs": [],
   "source": [
    "new_data_point = {\n",
    "    'Height': 1.69,\n",
    "    'Weight': 75,\n",
    "    'Age': 37,\n",
    "}"
   ]
  },
  {
   "cell_type": "code",
   "execution_count": 5,
   "id": "dd764050",
   "metadata": {},
   "outputs": [],
   "source": [
    "k = 3  "
   ]
  },
  {
   "cell_type": "code",
   "execution_count": 6,
   "id": "127413b2",
   "metadata": {},
   "outputs": [],
   "source": [
    "df['Distance'] = np.sqrt(\n",
    "    (df['Height'] - new_data_point['Height'])**2 +\n",
    "    (df['Weight'] - new_data_point['Weight'])**2 +\n",
    "    (df['Age'] - new_data_point['Age'])**2\n",
    ")"
   ]
  },
  {
   "cell_type": "code",
   "execution_count": 7,
   "id": "1ec96bb9",
   "metadata": {},
   "outputs": [],
   "source": [
    "df = df.sort_values(by='Distance')\n",
    "\n"
   ]
  },
  {
   "cell_type": "code",
   "execution_count": 8,
   "id": "de8a216e",
   "metadata": {},
   "outputs": [],
   "source": [
    "k_nearest_neighbors = df.head(k)"
   ]
  },
  {
   "cell_type": "code",
   "execution_count": 9,
   "id": "be7a0467",
   "metadata": {},
   "outputs": [],
   "source": [
    "class_counts = k_nearest_neighbors['Class'].value_counts()"
   ]
  },
  {
   "cell_type": "code",
   "execution_count": 10,
   "id": "24896341",
   "metadata": {},
   "outputs": [],
   "source": [
    "predicted_class = class_counts.idxmax()"
   ]
  },
  {
   "cell_type": "code",
   "execution_count": 11,
   "id": "9be4fd82",
   "metadata": {},
   "outputs": [
    {
     "name": "stdout",
     "output_type": "stream",
     "text": [
      "Predicted Class: Builder\n"
     ]
    }
   ],
   "source": [
    "print(f\"Predicted Class: {predicted_class}\")"
   ]
  },
  {
   "cell_type": "code",
   "execution_count": null,
   "id": "261a3cce",
   "metadata": {},
   "outputs": [],
   "source": []
  }
 ],
 "metadata": {
  "kernelspec": {
   "display_name": "Python 3 (ipykernel)",
   "language": "python",
   "name": "python3"
  },
  "language_info": {
   "codemirror_mode": {
    "name": "ipython",
    "version": 3
   },
   "file_extension": ".py",
   "mimetype": "text/x-python",
   "name": "python",
   "nbconvert_exporter": "python",
   "pygments_lexer": "ipython3",
   "version": "3.10.9"
  }
 },
 "nbformat": 4,
 "nbformat_minor": 5
}
