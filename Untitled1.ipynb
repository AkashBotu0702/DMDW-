{
 "cells": [
  {
   "cell_type": "code",
   "execution_count": 3,
   "id": "80dec76e",
   "metadata": {},
   "outputs": [
    {
     "ename": "TypeError",
     "evalue": "object of type 'NoneType' has no len()",
     "output_type": "error",
     "traceback": [
      "\u001b[1;31m---------------------------------------------------------------------------\u001b[0m",
      "\u001b[1;31mTypeError\u001b[0m                                 Traceback (most recent call last)",
      "Cell \u001b[1;32mIn[3], line 64\u001b[0m\n\u001b[0;32m     56\u001b[0m     \u001b[38;5;28;01mreturn\u001b[39;00m count\n\u001b[0;32m     62\u001b[0m newItem \u001b[38;5;241m=\u001b[39m {\u001b[38;5;124m'\u001b[39m\u001b[38;5;124mHeight\u001b[39m\u001b[38;5;124m'\u001b[39m : \u001b[38;5;241m1.74\u001b[39m, \u001b[38;5;124m'\u001b[39m\u001b[38;5;124mWeight\u001b[39m\u001b[38;5;124m'\u001b[39m : \u001b[38;5;241m67\u001b[39m, \u001b[38;5;124m'\u001b[39m\u001b[38;5;124mAge\u001b[39m\u001b[38;5;124m'\u001b[39m : \u001b[38;5;241m22\u001b[39m};\n\u001b[1;32m---> 64\u001b[0m \u001b[38;5;28mprint\u001b[39m(\u001b[43mClassify\u001b[49m\u001b[43m(\u001b[49m\u001b[43mnewItem\u001b[49m\u001b[43m,\u001b[49m\u001b[43m \u001b[49m\u001b[38;5;241;43m3\u001b[39;49m\u001b[43m,\u001b[49m\u001b[43m \u001b[49m\u001b[43mitems\u001b[49m\u001b[43m)\u001b[49m)\n",
      "Cell \u001b[1;32mIn[3], line 28\u001b[0m, in \u001b[0;36mClassify\u001b[1;34m(nItem, k, Items)\u001b[0m\n\u001b[0;32m     26\u001b[0m \u001b[38;5;28;01mfor\u001b[39;00m item \u001b[38;5;129;01min\u001b[39;00m Items:\n\u001b[0;32m     27\u001b[0m     distance \u001b[38;5;241m=\u001b[39m EuclideanDistance(nItem, item);\n\u001b[1;32m---> 28\u001b[0m     neighbors \u001b[38;5;241m=\u001b[39m \u001b[43mUpdateNeighbors\u001b[49m\u001b[43m(\u001b[49m\u001b[43mneighbors\u001b[49m\u001b[43m,\u001b[49m\u001b[43m \u001b[49m\u001b[43mitem\u001b[49m\u001b[43m,\u001b[49m\u001b[43m \u001b[49m\u001b[43mdistance\u001b[49m\u001b[43m,\u001b[49m\u001b[43m \u001b[49m\u001b[43mk\u001b[49m\u001b[43m)\u001b[49m;\n\u001b[0;32m     29\u001b[0m count \u001b[38;5;241m=\u001b[39m CalculateNeighborsClass(neighbors, k);\n\u001b[0;32m     30\u001b[0m \u001b[38;5;28;01mreturn\u001b[39;00m FindMax(count)\n",
      "Cell \u001b[1;32mIn[3], line 39\u001b[0m, in \u001b[0;36mUpdateNeighbors\u001b[1;34m(neighbors, item, distance, k)\u001b[0m\n\u001b[0;32m     38\u001b[0m \u001b[38;5;28;01mdef\u001b[39;00m \u001b[38;5;21mUpdateNeighbors\u001b[39m(neighbors, item, distance, k):\n\u001b[1;32m---> 39\u001b[0m     \u001b[38;5;28;01mif\u001b[39;00m \u001b[38;5;28;43mlen\u001b[39;49m\u001b[43m(\u001b[49m\u001b[43mneighbors\u001b[49m\u001b[43m)\u001b[49m \u001b[38;5;241m<\u001b[39m k \u001b[38;5;129;01mor\u001b[39;00m distance \u001b[38;5;241m<\u001b[39m neighbors[\u001b[38;5;241m-\u001b[39m\u001b[38;5;241m1\u001b[39m][\u001b[38;5;241m0\u001b[39m]:\n\u001b[0;32m     40\u001b[0m         neighbors\u001b[38;5;241m.\u001b[39mappend([distance, item[\u001b[38;5;124m\"\u001b[39m\u001b[38;5;124mClass\u001b[39m\u001b[38;5;124m\"\u001b[39m]])\n\u001b[0;32m     41\u001b[0m         neighbors \u001b[38;5;241m=\u001b[39m \u001b[38;5;28msorted\u001b[39m(neighbors)\n",
      "\u001b[1;31mTypeError\u001b[0m: object of type 'NoneType' has no len()"
     ]
    }
   ],
   "source": [
    "import random\n",
    "import math\n",
    "\n",
    "f = open('dataset.txt', 'r');\n",
    "lines = f.read().splitlines();\n",
    "\n",
    "features = lines[0].split(', ')[:-1];\n",
    "\n",
    "items = [];\n",
    "\n",
    "for i in range(1, len(lines)):\n",
    "    line = lines[i].split(', ')\n",
    "    itemFeatures = {\"Class\" : line[-1]}\n",
    "    for j in range(len(features)):\n",
    "        f = features[j]\n",
    "        v = float(line[j])\n",
    "        itemFeatures[f] = v\n",
    "        items.append(itemFeatures)\n",
    "\n",
    "random.shuffle(items);\n",
    "\n",
    "def Classify(nItem, k, Items): \n",
    "    if(k > len(Items)):\n",
    "        return \"k larger than list length\";\n",
    "    neighbors = [];\n",
    "    for item in Items:\n",
    "        distance = EuclideanDistance(nItem, item);\n",
    "        neighbors = UpdateNeighbors(neighbors, item, distance, k);\n",
    "    count = CalculateNeighborsClass(neighbors, k);\n",
    "    return FindMax(count); \n",
    "\n",
    "def EuclideanDistance(x, y): \n",
    "    S = 0;\n",
    "    for key in x.keys():\n",
    "        S += math.pow(x[key]-y[key], 2);\n",
    "    return math.sqrt(S);\n",
    "\n",
    "def UpdateNeighbors(neighbors, item, distance, k):\n",
    "    if len(neighbors) < k or distance < neighbors[-1][0]:\n",
    "        neighbors.append([distance, item[\"Class\"]])\n",
    "        neighbors = sorted(neighbors)\n",
    "        if len(neighbors) > k:\n",
    "            neighbors.pop()\n",
    "\n",
    "def FindMax(countList):\n",
    "    return max(countList, key=lambda x: countList[x])\n",
    "\n",
    "\n",
    "def CalculateNeighborsClass(neighbors, k): \n",
    "    count = {}; \n",
    "    for i in range(k): \n",
    "        if(neighbors[i][1] not in count):\n",
    "            count[neighbors[i][1]] = 1;\n",
    "        else:\n",
    "            count[neighbors[i][1]] += 1;\n",
    "    return count\n",
    "\n",
    "\n",
    "\n",
    "\n",
    "\n",
    "newItem = {'Height' : 1.74, 'Weight' : 67, 'Age' : 22};\n",
    "\n",
    "print(Classify(newItem, 3, items));\n",
    "\n"
   ]
  },
  {
   "cell_type": "code",
   "execution_count": null,
   "id": "59ea86c6",
   "metadata": {},
   "outputs": [],
   "source": []
  }
 ],
 "metadata": {
  "kernelspec": {
   "display_name": "Python 3 (ipykernel)",
   "language": "python",
   "name": "python3"
  },
  "language_info": {
   "codemirror_mode": {
    "name": "ipython",
    "version": 3
   },
   "file_extension": ".py",
   "mimetype": "text/x-python",
   "name": "python",
   "nbconvert_exporter": "python",
   "pygments_lexer": "ipython3",
   "version": "3.10.9"
  }
 },
 "nbformat": 4,
 "nbformat_minor": 5
}
